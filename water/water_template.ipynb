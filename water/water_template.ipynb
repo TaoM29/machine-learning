{
 "cells": [
  {
   "cell_type": "markdown",
   "metadata": {},
   "source": [
    "### Imports"
   ]
  },
  {
   "cell_type": "code",
   "execution_count": 2,
   "metadata": {},
   "outputs": [],
   "source": [
    "import pandas as pd\n",
    "import numpy as np\n",
    "import matplotlib.pyplot as plt\n",
    "\n",
    "from sklearn.model_selection import train_test_split\n",
    "from sklearn.ensemble import RandomForestClassifier\n",
    "from sklearn.metrics import accuracy_score"
   ]
  },
  {
   "cell_type": "markdown",
   "metadata": {},
   "source": [
    "### Reading data"
   ]
  },
  {
   "cell_type": "code",
   "execution_count": 3,
   "metadata": {},
   "outputs": [],
   "source": [
    "# Load CSV file into a Pandas DataFrame\n",
    "train_df = pd.read_csv('train.csv') \n",
    "test_df = pd.read_csv('test.csv')\n",
    "\n",
    "\n",
    "# Select all features except the first one called ['Unnamed:0']\n",
    "train = train_df.iloc[:, 1:]\n",
    "test = test_df.iloc[:, 1:]\n"
   ]
  },
  {
   "cell_type": "code",
   "execution_count": 40,
   "metadata": {},
   "outputs": [
    {
     "data": {
      "text/html": [
       "<div>\n",
       "<style scoped>\n",
       "    .dataframe tbody tr th:only-of-type {\n",
       "        vertical-align: middle;\n",
       "    }\n",
       "\n",
       "    .dataframe tbody tr th {\n",
       "        vertical-align: top;\n",
       "    }\n",
       "\n",
       "    .dataframe thead th {\n",
       "        text-align: right;\n",
       "    }\n",
       "</style>\n",
       "<table border=\"1\" class=\"dataframe\">\n",
       "  <thead>\n",
       "    <tr style=\"text-align: right;\">\n",
       "      <th></th>\n",
       "      <th>ph</th>\n",
       "      <th>Hardness</th>\n",
       "      <th>Chloramines</th>\n",
       "      <th>Sulfate</th>\n",
       "      <th>Conductivity</th>\n",
       "      <th>Organic_carbon</th>\n",
       "      <th>Trihalomethanes</th>\n",
       "      <th>Turbidity</th>\n",
       "      <th>Drinkable</th>\n",
       "    </tr>\n",
       "  </thead>\n",
       "  <tbody>\n",
       "    <tr>\n",
       "      <th>0</th>\n",
       "      <td>8.699665</td>\n",
       "      <td>206.379671</td>\n",
       "      <td>7.725750</td>\n",
       "      <td>360.083725</td>\n",
       "      <td>408.388221</td>\n",
       "      <td>14.859047</td>\n",
       "      <td>76.846364</td>\n",
       "      <td>5.710412</td>\n",
       "      <td>0</td>\n",
       "    </tr>\n",
       "    <tr>\n",
       "      <th>1</th>\n",
       "      <td>6.563410</td>\n",
       "      <td>175.697020</td>\n",
       "      <td>6.084136</td>\n",
       "      <td>333.778060</td>\n",
       "      <td>412.632708</td>\n",
       "      <td>11.222295</td>\n",
       "      <td>73.502793</td>\n",
       "      <td>4.459252</td>\n",
       "      <td>1</td>\n",
       "    </tr>\n",
       "    <tr>\n",
       "      <th>2</th>\n",
       "      <td>6.817023</td>\n",
       "      <td>246.660238</td>\n",
       "      <td>9.051732</td>\n",
       "      <td>317.237871</td>\n",
       "      <td>464.209418</td>\n",
       "      <td>14.822665</td>\n",
       "      <td>68.918597</td>\n",
       "      <td>4.602564</td>\n",
       "      <td>0</td>\n",
       "    </tr>\n",
       "    <tr>\n",
       "      <th>3</th>\n",
       "      <td>7.449572</td>\n",
       "      <td>146.902210</td>\n",
       "      <td>7.950549</td>\n",
       "      <td>444.198272</td>\n",
       "      <td>554.679850</td>\n",
       "      <td>19.483985</td>\n",
       "      <td>72.081011</td>\n",
       "      <td>3.809883</td>\n",
       "      <td>0</td>\n",
       "    </tr>\n",
       "    <tr>\n",
       "      <th>4</th>\n",
       "      <td>5.300541</td>\n",
       "      <td>212.435573</td>\n",
       "      <td>7.313756</td>\n",
       "      <td>350.452182</td>\n",
       "      <td>356.512171</td>\n",
       "      <td>19.213205</td>\n",
       "      <td>99.351837</td>\n",
       "      <td>3.841719</td>\n",
       "      <td>1</td>\n",
       "    </tr>\n",
       "    <tr>\n",
       "      <th>...</th>\n",
       "      <td>...</td>\n",
       "      <td>...</td>\n",
       "      <td>...</td>\n",
       "      <td>...</td>\n",
       "      <td>...</td>\n",
       "      <td>...</td>\n",
       "      <td>...</td>\n",
       "      <td>...</td>\n",
       "      <td>...</td>\n",
       "    </tr>\n",
       "    <tr>\n",
       "      <th>2035</th>\n",
       "      <td>5.799883</td>\n",
       "      <td>236.684321</td>\n",
       "      <td>7.000892</td>\n",
       "      <td>321.832742</td>\n",
       "      <td>299.216835</td>\n",
       "      <td>10.689189</td>\n",
       "      <td>84.224603</td>\n",
       "      <td>2.947935</td>\n",
       "      <td>1</td>\n",
       "    </tr>\n",
       "    <tr>\n",
       "      <th>2036</th>\n",
       "      <td>7.838657</td>\n",
       "      <td>159.016086</td>\n",
       "      <td>6.692211</td>\n",
       "      <td>307.230030</td>\n",
       "      <td>263.542076</td>\n",
       "      <td>11.868835</td>\n",
       "      <td>58.211472</td>\n",
       "      <td>3.320310</td>\n",
       "      <td>1</td>\n",
       "    </tr>\n",
       "    <tr>\n",
       "      <th>2037</th>\n",
       "      <td>8.534096</td>\n",
       "      <td>213.223824</td>\n",
       "      <td>6.626447</td>\n",
       "      <td>380.389492</td>\n",
       "      <td>430.229335</td>\n",
       "      <td>19.191141</td>\n",
       "      <td>82.876058</td>\n",
       "      <td>4.456382</td>\n",
       "      <td>0</td>\n",
       "    </tr>\n",
       "    <tr>\n",
       "      <th>2038</th>\n",
       "      <td>6.558423</td>\n",
       "      <td>209.053922</td>\n",
       "      <td>8.198414</td>\n",
       "      <td>311.769807</td>\n",
       "      <td>502.683243</td>\n",
       "      <td>17.984424</td>\n",
       "      <td>89.038904</td>\n",
       "      <td>4.992916</td>\n",
       "      <td>0</td>\n",
       "    </tr>\n",
       "    <tr>\n",
       "      <th>2039</th>\n",
       "      <td>7.226536</td>\n",
       "      <td>174.648095</td>\n",
       "      <td>5.418436</td>\n",
       "      <td>246.557983</td>\n",
       "      <td>405.636645</td>\n",
       "      <td>13.306634</td>\n",
       "      <td>87.011168</td>\n",
       "      <td>4.336237</td>\n",
       "      <td>1</td>\n",
       "    </tr>\n",
       "  </tbody>\n",
       "</table>\n",
       "<p>2040 rows × 9 columns</p>\n",
       "</div>"
      ],
      "text/plain": [
       "            ph    Hardness  Chloramines     Sulfate  Conductivity  \\\n",
       "0     8.699665  206.379671     7.725750  360.083725    408.388221   \n",
       "1     6.563410  175.697020     6.084136  333.778060    412.632708   \n",
       "2     6.817023  246.660238     9.051732  317.237871    464.209418   \n",
       "3     7.449572  146.902210     7.950549  444.198272    554.679850   \n",
       "4     5.300541  212.435573     7.313756  350.452182    356.512171   \n",
       "...        ...         ...          ...         ...           ...   \n",
       "2035  5.799883  236.684321     7.000892  321.832742    299.216835   \n",
       "2036  7.838657  159.016086     6.692211  307.230030    263.542076   \n",
       "2037  8.534096  213.223824     6.626447  380.389492    430.229335   \n",
       "2038  6.558423  209.053922     8.198414  311.769807    502.683243   \n",
       "2039  7.226536  174.648095     5.418436  246.557983    405.636645   \n",
       "\n",
       "      Organic_carbon  Trihalomethanes  Turbidity  Drinkable  \n",
       "0          14.859047        76.846364   5.710412          0  \n",
       "1          11.222295        73.502793   4.459252          1  \n",
       "2          14.822665        68.918597   4.602564          0  \n",
       "3          19.483985        72.081011   3.809883          0  \n",
       "4          19.213205        99.351837   3.841719          1  \n",
       "...              ...              ...        ...        ...  \n",
       "2035       10.689189        84.224603   2.947935          1  \n",
       "2036       11.868835        58.211472   3.320310          1  \n",
       "2037       19.191141        82.876058   4.456382          0  \n",
       "2038       17.984424        89.038904   4.992916          0  \n",
       "2039       13.306634        87.011168   4.336237          1  \n",
       "\n",
       "[2040 rows x 9 columns]"
      ]
     },
     "execution_count": 40,
     "metadata": {},
     "output_type": "execute_result"
    }
   ],
   "source": [
    "train"
   ]
  },
  {
   "cell_type": "code",
   "execution_count": 41,
   "metadata": {},
   "outputs": [
    {
     "data": {
      "text/html": [
       "<div>\n",
       "<style scoped>\n",
       "    .dataframe tbody tr th:only-of-type {\n",
       "        vertical-align: middle;\n",
       "    }\n",
       "\n",
       "    .dataframe tbody tr th {\n",
       "        vertical-align: top;\n",
       "    }\n",
       "\n",
       "    .dataframe thead th {\n",
       "        text-align: right;\n",
       "    }\n",
       "</style>\n",
       "<table border=\"1\" class=\"dataframe\">\n",
       "  <thead>\n",
       "    <tr style=\"text-align: right;\">\n",
       "      <th></th>\n",
       "      <th>ph</th>\n",
       "      <th>Hardness</th>\n",
       "      <th>Chloramines</th>\n",
       "      <th>Sulfate</th>\n",
       "      <th>Conductivity</th>\n",
       "      <th>Organic_carbon</th>\n",
       "      <th>Trihalomethanes</th>\n",
       "      <th>Turbidity</th>\n",
       "    </tr>\n",
       "  </thead>\n",
       "  <tbody>\n",
       "    <tr>\n",
       "      <th>0</th>\n",
       "      <td>6.291652</td>\n",
       "      <td>186.073761</td>\n",
       "      <td>6.045361</td>\n",
       "      <td>367.989091</td>\n",
       "      <td>295.308581</td>\n",
       "      <td>11.170456</td>\n",
       "      <td>49.785878</td>\n",
       "      <td>5.328826</td>\n",
       "    </tr>\n",
       "    <tr>\n",
       "      <th>1</th>\n",
       "      <td>4.884432</td>\n",
       "      <td>106.394326</td>\n",
       "      <td>5.549662</td>\n",
       "      <td>369.764389</td>\n",
       "      <td>299.468182</td>\n",
       "      <td>12.333352</td>\n",
       "      <td>77.101277</td>\n",
       "      <td>4.285049</td>\n",
       "    </tr>\n",
       "    <tr>\n",
       "      <th>2</th>\n",
       "      <td>5.488289</td>\n",
       "      <td>186.185584</td>\n",
       "      <td>6.609243</td>\n",
       "      <td>353.107564</td>\n",
       "      <td>344.806801</td>\n",
       "      <td>19.386249</td>\n",
       "      <td>65.179697</td>\n",
       "      <td>2.372528</td>\n",
       "    </tr>\n",
       "    <tr>\n",
       "      <th>3</th>\n",
       "      <td>9.384693</td>\n",
       "      <td>155.312737</td>\n",
       "      <td>3.878989</td>\n",
       "      <td>389.735129</td>\n",
       "      <td>504.336229</td>\n",
       "      <td>17.829793</td>\n",
       "      <td>64.215950</td>\n",
       "      <td>2.972796</td>\n",
       "    </tr>\n",
       "    <tr>\n",
       "      <th>4</th>\n",
       "      <td>11.438159</td>\n",
       "      <td>186.621075</td>\n",
       "      <td>8.042822</td>\n",
       "      <td>328.019302</td>\n",
       "      <td>402.359564</td>\n",
       "      <td>18.345715</td>\n",
       "      <td>44.955298</td>\n",
       "      <td>3.816719</td>\n",
       "    </tr>\n",
       "    <tr>\n",
       "      <th>...</th>\n",
       "      <td>...</td>\n",
       "      <td>...</td>\n",
       "      <td>...</td>\n",
       "      <td>...</td>\n",
       "      <td>...</td>\n",
       "      <td>...</td>\n",
       "      <td>...</td>\n",
       "      <td>...</td>\n",
       "    </tr>\n",
       "    <tr>\n",
       "      <th>355</th>\n",
       "      <td>5.861593</td>\n",
       "      <td>180.948163</td>\n",
       "      <td>8.411882</td>\n",
       "      <td>382.707593</td>\n",
       "      <td>474.684804</td>\n",
       "      <td>17.295647</td>\n",
       "      <td>99.797941</td>\n",
       "      <td>4.250519</td>\n",
       "    </tr>\n",
       "    <tr>\n",
       "      <th>356</th>\n",
       "      <td>10.141595</td>\n",
       "      <td>252.366261</td>\n",
       "      <td>7.403265</td>\n",
       "      <td>392.890758</td>\n",
       "      <td>596.173489</td>\n",
       "      <td>16.366566</td>\n",
       "      <td>58.627764</td>\n",
       "      <td>4.871356</td>\n",
       "    </tr>\n",
       "    <tr>\n",
       "      <th>357</th>\n",
       "      <td>6.372832</td>\n",
       "      <td>210.962076</td>\n",
       "      <td>9.856898</td>\n",
       "      <td>341.740332</td>\n",
       "      <td>472.963419</td>\n",
       "      <td>13.044548</td>\n",
       "      <td>77.609727</td>\n",
       "      <td>5.160550</td>\n",
       "    </tr>\n",
       "    <tr>\n",
       "      <th>358</th>\n",
       "      <td>7.003981</td>\n",
       "      <td>209.367805</td>\n",
       "      <td>8.955022</td>\n",
       "      <td>260.496464</td>\n",
       "      <td>523.587946</td>\n",
       "      <td>14.085119</td>\n",
       "      <td>63.940150</td>\n",
       "      <td>3.023395</td>\n",
       "    </tr>\n",
       "    <tr>\n",
       "      <th>359</th>\n",
       "      <td>6.910502</td>\n",
       "      <td>187.777901</td>\n",
       "      <td>7.407948</td>\n",
       "      <td>289.607480</td>\n",
       "      <td>285.018915</td>\n",
       "      <td>13.881020</td>\n",
       "      <td>63.278447</td>\n",
       "      <td>4.474743</td>\n",
       "    </tr>\n",
       "  </tbody>\n",
       "</table>\n",
       "<p>360 rows × 8 columns</p>\n",
       "</div>"
      ],
      "text/plain": [
       "            ph    Hardness  Chloramines     Sulfate  Conductivity  \\\n",
       "0     6.291652  186.073761     6.045361  367.989091    295.308581   \n",
       "1     4.884432  106.394326     5.549662  369.764389    299.468182   \n",
       "2     5.488289  186.185584     6.609243  353.107564    344.806801   \n",
       "3     9.384693  155.312737     3.878989  389.735129    504.336229   \n",
       "4    11.438159  186.621075     8.042822  328.019302    402.359564   \n",
       "..         ...         ...          ...         ...           ...   \n",
       "355   5.861593  180.948163     8.411882  382.707593    474.684804   \n",
       "356  10.141595  252.366261     7.403265  392.890758    596.173489   \n",
       "357   6.372832  210.962076     9.856898  341.740332    472.963419   \n",
       "358   7.003981  209.367805     8.955022  260.496464    523.587946   \n",
       "359   6.910502  187.777901     7.407948  289.607480    285.018915   \n",
       "\n",
       "     Organic_carbon  Trihalomethanes  Turbidity  \n",
       "0         11.170456        49.785878   5.328826  \n",
       "1         12.333352        77.101277   4.285049  \n",
       "2         19.386249        65.179697   2.372528  \n",
       "3         17.829793        64.215950   2.972796  \n",
       "4         18.345715        44.955298   3.816719  \n",
       "..              ...              ...        ...  \n",
       "355       17.295647        99.797941   4.250519  \n",
       "356       16.366566        58.627764   4.871356  \n",
       "357       13.044548        77.609727   5.160550  \n",
       "358       14.085119        63.940150   3.023395  \n",
       "359       13.881020        63.278447   4.474743  \n",
       "\n",
       "[360 rows x 8 columns]"
      ]
     },
     "execution_count": 41,
     "metadata": {},
     "output_type": "execute_result"
    }
   ],
   "source": [
    "test"
   ]
  },
  {
   "cell_type": "markdown",
   "metadata": {},
   "source": [
    "### Data exploration and visualisation"
   ]
  },
  {
   "cell_type": "code",
   "execution_count": 4,
   "metadata": {},
   "outputs": [
    {
     "data": {
      "image/png": "[encoded data removed]",
      "text/plain": [
       "<Figure size 1296x720 with 1 Axes>"
      ]
     },
     "metadata": {
      "needs_background": "light"
     },
     "output_type": "display_data"
    }
   ],
   "source": [
    "#Created a boxplot for each numerical column to check for outliers\n",
    "fig, ax = plt.subplots(figsize=(18,10))\n",
    "train.plot(kind='box', ax=ax)\n",
    "plt.show()\n"
   ]
  },
  {
   "cell_type": "markdown",
   "metadata": {},
   "source": [
    "### Data cleaning"
   ]
  },
  {
   "cell_type": "code",
   "execution_count": 5,
   "metadata": {},
   "outputs": [
    {
     "data": {
      "text/plain": [
       "(1799, 10)"
      ]
     },
     "execution_count": 5,
     "metadata": {},
     "output_type": "execute_result"
    }
   ],
   "source": [
    "# Fill missing values with the median for the respective feature\n",
    "train.fillna(train.median(), inplace=True)\n",
    "test.fillna(test.median(), inplace=True)\n",
    "\n",
    "\n",
    "# Define the Tukey method to remove outliers\n",
    "def remove_outliers_tukey(train):\n",
    "    Q1 = train.quantile(0.25)\n",
    "    Q3 = train.quantile(0.75)\n",
    "    IQR = Q3 - Q1\n",
    "    return train[~((train < (Q1 - 1.5 * IQR)) | (train > (Q3 + 1.5 * IQR))).any(axis=1)]\n",
    "\n",
    "# Apply the Tukey method to remove outliers from the whole dataframe\n",
    "train_clean = remove_outliers_tukey(train)\n",
    "train_clean.shape\n",
    "#After cleaning, went from 2040 to 1799 rows"
   ]
  },
  {
   "cell_type": "markdown",
   "metadata": {},
   "source": [
    "## Data exploration after cleaning"
   ]
  },
  {
   "cell_type": "code",
   "execution_count": 6,
   "metadata": {},
   "outputs": [
    {
     "data": {
      "image/png": "[encoded data removed]",
      "text/plain": [
       "<Figure size 1296x720 with 1 Axes>"
      ]
     },
     "metadata": {
      "needs_background": "light"
     },
     "output_type": "display_data"
    }
   ],
   "source": [
    "# Created a boxplot for each numerical column after cleaning the data from possible outliers\n",
    "fig, ax = plt.subplots(figsize=(18,10))\n",
    "train_clean.plot(kind='box', ax=ax)\n",
    "plt.show()\n"
   ]
  },
  {
   "cell_type": "markdown",
   "metadata": {},
   "source": [
    "### Data preprocessing"
   ]
  },
  {
   "cell_type": "code",
   "execution_count": 24,
   "metadata": {},
   "outputs": [],
   "source": [
    "# Split the train.csv into X and y\n",
    "X = train_clean.drop('Drinkable', axis=1)\n",
    "y = train_clean['Drinkable']\n",
    "\n",
    "\n",
    "# Set the parameters for Random Forest\n",
    "n_estimators_list = [100, 200, 500]\n",
    "max_depth_list = [20, 30, 40]\n",
    "min_samples_leaf_list = [2, 4, 10]\n",
    "min_samples_split_list = [2, 5, 10]\n",
    "max_features_list = ['sqrt', 'log2']\n",
    "\n",
    "\n",
    "best_params = {'n_estimators': None,\n",
    "               'max_depth': None,\n",
    "               'min_samples_leaf': None,\n",
    "               'min_samples_split': None,\n",
    "               'max_features': None}\n"
   ]
  },
  {
   "cell_type": "code",
   "execution_count": 25,
   "metadata": {},
   "outputs": [
    {
     "data": {
      "text/plain": [
       "(1799, 9)"
      ]
     },
     "execution_count": 25,
     "metadata": {},
     "output_type": "execute_result"
    }
   ],
   "source": [
    "X.shape"
   ]
  },
  {
   "cell_type": "code",
   "execution_count": 26,
   "metadata": {},
   "outputs": [
    {
     "data": {
      "text/plain": [
       "(1799,)"
      ]
     },
     "execution_count": 26,
     "metadata": {},
     "output_type": "execute_result"
    }
   ],
   "source": [
    "y.shape"
   ]
  },
  {
   "cell_type": "markdown",
   "metadata": {},
   "source": [
    "#### Train test split"
   ]
  },
  {
   "cell_type": "code",
   "execution_count": 39,
   "metadata": {},
   "outputs": [],
   "source": [
    "#Train test split is done in the modelling part"
   ]
  },
  {
   "cell_type": "markdown",
   "metadata": {},
   "source": [
    "#### Scaling"
   ]
  },
  {
   "cell_type": "code",
   "execution_count": 254,
   "metadata": {},
   "outputs": [],
   "source": [
    "# No need to scale when using random forrest \n",
    "# Random Forest is a tree-based model and hence does not require feature scaling"
   ]
  },
  {
   "cell_type": "markdown",
   "metadata": {},
   "source": [
    "### Modelling"
   ]
  },
  {
   "cell_type": "code",
   "execution_count": 27,
   "metadata": {},
   "outputs": [
    {
     "name": "stdout",
     "output_type": "stream",
     "text": [
      "Best parameters: {'n_estimators': 500, 'max_depth': 40, 'min_samples_leaf': 2, 'min_samples_split': 2, 'max_features': 'sqrt'}\n"
     ]
    },
    {
     "data": {
      "image/png": "[encoded data removed]",
      "text/plain": [
       "<Figure size 432x288 with 1 Axes>"
      ]
     },
     "metadata": {
      "needs_background": "light"
     },
     "output_type": "display_data"
    }
   ],
   "source": [
    "train_accuracies = []\n",
    "val_accuracies = []\n",
    "\n",
    "# Create a loop for multiple train-test splits\n",
    "for _ in range(20):\n",
    "    \n",
    "    # Reset the best accuracy for each iteration\n",
    "    best_accuracy = 0\n",
    "    \n",
    "    # Split the data into training and validation sets\n",
    "    X_train, X_val, y_train, y_val = train_test_split(X, y, test_size=0.2,\n",
    "                                                      random_state=42, stratify=y)\n",
    "\n",
    "    # Train the Random Forest model with different parameters\n",
    "    for n_estimators in n_estimators_list:\n",
    "        for max_depth in max_depth_list:\n",
    "            for min_samples_leaf in min_samples_leaf_list:\n",
    "                for min_samples_split in min_samples_split_list:\n",
    "                    for max_features in max_features_list:\n",
    "                        model = RandomForestClassifier(n_estimators=n_estimators,\n",
    "                                                       max_depth=max_depth,\n",
    "                                                       min_samples_leaf=min_samples_leaf,\n",
    "                                                       min_samples_split=min_samples_split,\n",
    "                                                       max_features=max_features,\n",
    "                                                       n_jobs=-1)\n",
    "                                                      \n",
    "                        model.fit(X_train, y_train)\n",
    "                        predictions = model.predict(X_val)\n",
    "\n",
    "                        # Evaluate the model's performance\n",
    "                        accuracy = accuracy_score(y_val, predictions)\n",
    "\n",
    "                        if accuracy > best_accuracy:\n",
    "                            best_accuracy = accuracy\n",
    "                            best_params['n_estimators'] = n_estimators\n",
    "                            best_params['max_depth'] = max_depth\n",
    "                            best_params['min_samples_leaf'] = min_samples_leaf\n",
    "                            best_params['min_samples_split'] = min_samples_split\n",
    "                            best_params['max_features'] = max_features\n",
    "\n",
    "\n",
    "\n",
    "    # Calculate training accuracy\n",
    "    train_predictions = model.predict(X_train)\n",
    "    train_accuracy = accuracy_score(y_train, train_predictions)\n",
    "\n",
    "    train_accuracies.append(train_accuracy)\n",
    "    val_accuracies.append(best_accuracy)\n",
    "\n",
    "\n",
    "# Print the best parameters\n",
    "print('Best parameters:', best_params)\n",
    "\n",
    "\n",
    "# Plot the training and validation accuracy\n",
    "plt.plot(train_accuracies, label='Training Accuracy')\n",
    "plt.plot(val_accuracies, label='Validation Accuracy')\n",
    "\n",
    "\n",
    "plt.xticks(range(0, 21, 2))\n",
    "plt.xlabel('Iterations')\n",
    "\n",
    "\n",
    "plt.fill_between(np.arange(len(train_accuracies)),\n",
    "                 np.mean(train_accuracies) - np.std(train_accuracies),\n",
    "                 np.mean(train_accuracies) + np.std(train_accuracies),\n",
    "                 alpha=0.1)\n",
    "\n",
    "plt.fill_between(np.arange(len(val_accuracies)),\n",
    "                 np.mean(val_accuracies) - np.std(val_accuracies),\n",
    "                 np.mean(val_accuracies) + np.std(val_accuracies),\n",
    "                 alpha=0.1)\n",
    "\n",
    "\n",
    "plt.ylim(0.80, 1.00)\n",
    "plt.ylabel('Accuracy')\n",
    "plt.legend()\n",
    "\n",
    "plt.show()\n",
    "\n",
    "\n",
    "\n",
    "# Train the model with the best parameters on the whole training data\n",
    "best_model = RandomForestClassifier(n_estimators=best_params['n_estimators'],\n",
    "                                    max_depth=best_params['max_depth'],\n",
    "                                    min_samples_leaf=best_params['min_samples_leaf'],\n",
    "                                    min_samples_split=best_params['min_samples_split'],\n",
    "                                    max_features = best_params['max_features'])\n",
    "\n",
    "best_model.fit(X, y)\n",
    "\n",
    "\n",
    "# Predict y for X_test from test.csv\n",
    "X_test = test\n",
    "pred_test = best_model.predict(X_test)\n"
   ]
  },
  {
   "cell_type": "code",
   "execution_count": 30,
   "metadata": {},
   "outputs": [
    {
     "data": {
      "text/plain": [
       "0.8972222222222223"
      ]
     },
     "execution_count": 30,
     "metadata": {},
     "output_type": "execute_result"
    }
   ],
   "source": [
    "best_accuracy"
   ]
  },
  {
   "cell_type": "code",
   "execution_count": 29,
   "metadata": {},
   "outputs": [
    {
     "data": {
      "text/plain": [
       "0.9131341209173037"
      ]
     },
     "execution_count": 29,
     "metadata": {},
     "output_type": "execute_result"
    }
   ],
   "source": [
    "train_accuracy"
   ]
  }
 ],
 "metadata": {
  "interpreter": {
   "hash": "3d597f4c481aa0f25dceb95d2a0067e73c0966dcbd003d741d821a7208527ecf"
  },
  "kernelspec": {
   "display_name": "Python 3 (ipykernel)",
   "language": "python",
   "name": "python3"
  },
  "language_info": {
   "codemirror_mode": {
    "name": "ipython",
    "version": 3
   },
   "file_extension": ".py",
   "mimetype": "text/x-python",
   "name": "python",
   "nbconvert_exporter": "python",
   "pygments_lexer": "ipython3",
   "version": "3.9.16"
  }
 },
 "nbformat": 4,
 "nbformat_minor": 2
}
